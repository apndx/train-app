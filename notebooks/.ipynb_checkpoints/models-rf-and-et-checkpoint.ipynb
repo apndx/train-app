{
 "cells": [
  {
   "cell_type": "markdown",
   "metadata": {},
   "source": [
    "# Models - Random Forest and Extra Trees"
   ]
  },
  {
   "cell_type": "code",
   "execution_count": 4,
   "metadata": {},
   "outputs": [
    {
     "name": "stderr",
     "output_type": "stream",
     "text": [
      "/home/hdheli/anaconda3/lib/python3.7/site-packages/IPython/core/interactiveshell.py:3063: DtypeWarning: Columns (2) have mixed types.Specify dtype option on import or set low_memory=False.\n",
      "  interactivity=interactivity, compiler=compiler, result=result)\n"
     ]
    }
   ],
   "source": [
    "import pandas as pd\n",
    "\n",
    "merged = pd.read_csv(\"../trains_and_weather.csv\")\n",
    "df2 = merged.copy().drop(columns=[\"categoryCode\",\"categoryCodeId\",\"detailedCategoryCode\",\"detailedCategoryCodeId\", \"commercialTrack\"])\n"
   ]
  },
  {
   "cell_type": "markdown",
   "metadata": {},
   "source": [
    "Changing the data to numeric, difference in minutes is used as it is"
   ]
  },
  {
   "cell_type": "code",
   "execution_count": 19,
   "metadata": {},
   "outputs": [
    {
     "data": {
      "text/plain": [
       "commuterLineID            int8\n",
       "stationShortCode          int8\n",
       "differenceInMinutes    float64\n",
       "weather_area             int64\n",
       "year                     int64\n",
       "month                    int64\n",
       "day                      int64\n",
       "hour                     int64\n",
       "direction                int64\n",
       "rain                   float64\n",
       "celcius                float64\n",
       "windGustSpeed          float64\n",
       "windSpeed              float64\n",
       "dtype: object"
      ]
     },
     "execution_count": 19,
     "metadata": {},
     "output_type": "execute_result"
    }
   ],
   "source": [
    "df3 = df2.copy().sample(2000000)\n",
    "df3 = df3.astype({'commuterLineID': 'category', 'stationShortCode': 'category'})\n",
    "categoryToNumeric = df3.select_dtypes(['category']).columns\n",
    "df3[categoryToNumeric] = df3[categoryToNumeric].apply(lambda x: x.cat.codes)\n",
    "df3.dtypes"
   ]
  },
  {
   "cell_type": "markdown",
   "metadata": {},
   "source": [
    "### Save used sample to file"
   ]
  },
  {
   "cell_type": "code",
   "execution_count": 20,
   "metadata": {},
   "outputs": [],
   "source": [
    "import datetime\n",
    "\n",
    "now = '../data/samples/'+str(datetime.datetime.utcnow().isoformat(timespec=\"seconds\"))+'Z.csv'\n",
    "now\n",
    "df3.to_csv(now)"
   ]
  },
  {
   "cell_type": "markdown",
   "metadata": {},
   "source": [
    "### Make the model"
   ]
  },
  {
   "cell_type": "code",
   "execution_count": 21,
   "metadata": {
    "scrolled": true
   },
   "outputs": [
    {
     "ename": "NameError",
     "evalue": "name 'sklearn' is not defined",
     "output_type": "error",
     "traceback": [
      "\u001b[0;31m---------------------------------------------------------------------------\u001b[0m",
      "\u001b[0;31mNameError\u001b[0m                                 Traceback (most recent call last)",
      "\u001b[0;32m<ipython-input-21-fe0b18056089>\u001b[0m in \u001b[0;36m<module>\u001b[0;34m\u001b[0m\n\u001b[1;32m      7\u001b[0m \u001b[0mrf3\u001b[0m\u001b[0;34m.\u001b[0m\u001b[0mfit\u001b[0m\u001b[0;34m(\u001b[0m\u001b[0mX_train\u001b[0m\u001b[0;34m,\u001b[0m \u001b[0my_train\u001b[0m\u001b[0;34m)\u001b[0m\u001b[0;34m\u001b[0m\u001b[0;34m\u001b[0m\u001b[0m\n\u001b[1;32m      8\u001b[0m \u001b[0my_predtrain_rf3\u001b[0m \u001b[0;34m=\u001b[0m \u001b[0mrf3\u001b[0m\u001b[0;34m.\u001b[0m\u001b[0mpredict\u001b[0m\u001b[0;34m(\u001b[0m\u001b[0mX_train\u001b[0m\u001b[0;34m)\u001b[0m\u001b[0;34m\u001b[0m\u001b[0;34m\u001b[0m\u001b[0m\n\u001b[0;32m----> 9\u001b[0;31m \u001b[0mtrain_error_rf3\u001b[0m \u001b[0;34m=\u001b[0m \u001b[0msklearn\u001b[0m\u001b[0;34m.\u001b[0m\u001b[0mmetrics\u001b[0m\u001b[0;34m.\u001b[0m\u001b[0mzero_one_loss\u001b[0m\u001b[0;34m(\u001b[0m\u001b[0my_train\u001b[0m\u001b[0;34m,\u001b[0m \u001b[0my_predtrain_rf3\u001b[0m\u001b[0;34m)\u001b[0m\u001b[0;34m\u001b[0m\u001b[0;34m\u001b[0m\u001b[0m\n\u001b[0m\u001b[1;32m     10\u001b[0m \u001b[0my_pred_rf3\u001b[0m \u001b[0;34m=\u001b[0m \u001b[0mrf3\u001b[0m\u001b[0;34m.\u001b[0m\u001b[0mpredict\u001b[0m\u001b[0;34m(\u001b[0m\u001b[0mX_test\u001b[0m\u001b[0;34m)\u001b[0m\u001b[0;34m\u001b[0m\u001b[0;34m\u001b[0m\u001b[0m\n\u001b[1;32m     11\u001b[0m \u001b[0mtest_error_rf3\u001b[0m \u001b[0;34m=\u001b[0m \u001b[0msklearn\u001b[0m\u001b[0;34m.\u001b[0m\u001b[0mmetrics\u001b[0m\u001b[0;34m.\u001b[0m\u001b[0mzero_one_loss\u001b[0m\u001b[0;34m(\u001b[0m\u001b[0my_test\u001b[0m\u001b[0;34m,\u001b[0m \u001b[0my_pred_rf3\u001b[0m\u001b[0;34m)\u001b[0m\u001b[0;34m\u001b[0m\u001b[0;34m\u001b[0m\u001b[0m\n",
      "\u001b[0;31mNameError\u001b[0m: name 'sklearn' is not defined"
     ]
    }
   ],
   "source": [
    "from sklearn.ensemble import RandomForestClassifier\n",
    "from sklearn.model_selection import train_test_split\n",
    "X_train, X_test, y_train, y_test = train_test_split(df3.drop(\"differenceInMinutes\", axis=1), df3['differenceInMinutes'],\n",
    "                                                    train_size=0.80, test_size=0.20, random_state=66)\n",
    "\n",
    "rf3 = RandomForestClassifier(max_depth=12, random_state=66, n_estimators=100)\n",
    "rf3.fit(X_train, y_train)\n",
    "y_predtrain_rf3 = rf3.predict(X_train)"
   ]
  },
  {
   "cell_type": "code",
   "execution_count": 1,
   "metadata": {},
   "outputs": [
    {
     "ename": "AttributeError",
     "evalue": "module 'sklearn' has no attribute 'metrics'",
     "output_type": "error",
     "traceback": [
      "\u001b[0;31m---------------------------------------------------------------------------\u001b[0m",
      "\u001b[0;31mAttributeError\u001b[0m                            Traceback (most recent call last)",
      "\u001b[0;32m<ipython-input-1-dd72576e0f4f>\u001b[0m in \u001b[0;36m<module>\u001b[0;34m\u001b[0m\n\u001b[1;32m      1\u001b[0m \u001b[0;32mimport\u001b[0m \u001b[0msklearn\u001b[0m\u001b[0;34m\u001b[0m\u001b[0;34m\u001b[0m\u001b[0m\n\u001b[1;32m      2\u001b[0m \u001b[0;34m\u001b[0m\u001b[0m\n\u001b[0;32m----> 3\u001b[0;31m \u001b[0mtrain_error_rf3\u001b[0m \u001b[0;34m=\u001b[0m \u001b[0msklearn\u001b[0m\u001b[0;34m.\u001b[0m\u001b[0mmetrics\u001b[0m\u001b[0;34m.\u001b[0m\u001b[0mzero_one_loss\u001b[0m\u001b[0;34m(\u001b[0m\u001b[0my_train\u001b[0m\u001b[0;34m,\u001b[0m \u001b[0my_predtrain_rf3\u001b[0m\u001b[0;34m)\u001b[0m\u001b[0;34m\u001b[0m\u001b[0;34m\u001b[0m\u001b[0m\n\u001b[0m\u001b[1;32m      4\u001b[0m \u001b[0my_pred_rf3\u001b[0m \u001b[0;34m=\u001b[0m \u001b[0mrf3\u001b[0m\u001b[0;34m.\u001b[0m\u001b[0mpredict\u001b[0m\u001b[0;34m(\u001b[0m\u001b[0mX_test\u001b[0m\u001b[0;34m)\u001b[0m\u001b[0;34m\u001b[0m\u001b[0;34m\u001b[0m\u001b[0m\n\u001b[1;32m      5\u001b[0m \u001b[0mtest_error_rf3\u001b[0m \u001b[0;34m=\u001b[0m \u001b[0msklearn\u001b[0m\u001b[0;34m.\u001b[0m\u001b[0mmetrics\u001b[0m\u001b[0;34m.\u001b[0m\u001b[0mzero_one_loss\u001b[0m\u001b[0;34m(\u001b[0m\u001b[0my_test\u001b[0m\u001b[0;34m,\u001b[0m \u001b[0my_pred_rf3\u001b[0m\u001b[0;34m)\u001b[0m\u001b[0;34m\u001b[0m\u001b[0;34m\u001b[0m\u001b[0m\n",
      "\u001b[0;31mAttributeError\u001b[0m: module 'sklearn' has no attribute 'metrics'"
     ]
    }
   ],
   "source": [
    "import sklearn\n",
    "\n",
    "train_error_rf3 = sklearn.metrics.zero_one_loss(y_train, y_predtrain_rf3)\n",
    "y_pred_rf3 = rf3.predict(X_test)\n",
    "test_error_rf3 = sklearn.metrics.zero_one_loss(y_test, y_pred_rf3)\n"
   ]
  },
  {
   "cell_type": "markdown",
   "metadata": {},
   "source": [
    "### Plot confusion matrix"
   ]
  },
  {
   "cell_type": "code",
   "execution_count": 24,
   "metadata": {},
   "outputs": [
    {
     "data": {
      "image/png": "[encoded data removed]",
      "text/plain": [
       "<Figure size 288x288 with 1 Axes>"
      ]
     },
     "metadata": {
      "needs_background": "light"
     },
     "output_type": "display_data"
    }
   ],
   "source": [
    "import matplotlib.pyplot as plt\n",
    "\n",
    "plt.matshow(sklearn.metrics.confusion_matrix(y_test, y_pred_rf3))\n",
    "plt.title(\"RFC 3: training error = %.2f, test error = %.2f\" % (train_error_rf3, test_error_rf3))\n",
    "plt.show()"
   ]
  },
  {
   "cell_type": "markdown",
   "metadata": {},
   "source": [
    "### Save the model"
   ]
  },
  {
   "cell_type": "code",
   "execution_count": 25,
   "metadata": {},
   "outputs": [
    {
     "data": {
      "text/plain": [
       "['../ml-models/rf2020-10-01T13:16:42Z.csv']"
      ]
     },
     "execution_count": 25,
     "metadata": {},
     "output_type": "execute_result"
    }
   ],
   "source": [
    "from joblib import dump, load\n",
    "model_path = '../data/ml-models/rf'+str(datetime.datetime.utcnow().isoformat(timespec=\"seconds\"))+'Z'\n",
    "\n",
    "dump(rf3, model_path) "
   ]
  },
  {
   "cell_type": "markdown",
   "metadata": {},
   "source": [
    "### Make another model: ExtraTreesClassifier\n",
    "\n",
    "Recommeded by Tpot as the Best pipeline: ExtraTreesClassifier(input_matrix, bootstrap=True, criterion=gini, max_features=0.9000000000000001, min_samples_leaf=5, min_samples_split=12, n_estimators=100)\n",
    "0.7155349051975411\n",
    "\n",
    "Changing the data to numeric. As the model fitting crashes if minutes are used as they are, I convert them to classes:\n",
    "\n",
    "0 = (minutes <= 0)\n",
    "1 = (0 < minutes < 3)\n",
    "2 = (3 <= minutes < 5)\n",
    "3 = (5 <= minutes < 10)\n",
    "4 = (10 <= minutes < 20)\n",
    "5 = (20 <= minutes < 30)\n",
    "6 = (30 <= minutes)\n"
   ]
  },
  {
   "cell_type": "code",
   "execution_count": 5,
   "metadata": {},
   "outputs": [
    {
     "data": {
      "text/plain": [
       "commuterLineID            int8\n",
       "stationShortCode          int8\n",
       "differenceInMinutes    float64\n",
       "weather_area             int64\n",
       "year                     int64\n",
       "month                    int64\n",
       "day                      int64\n",
       "hour                     int64\n",
       "direction                int64\n",
       "rain                   float64\n",
       "celcius                float64\n",
       "windGustSpeed          float64\n",
       "windSpeed              float64\n",
       "dtype: object"
      ]
     },
     "execution_count": 5,
     "metadata": {},
     "output_type": "execute_result"
    }
   ],
   "source": [
    "# Getting a new sample\n",
    "df4 = df2.copy().sample(2000000)\n",
    "df4 = df4.dropna()\n",
    "df4 = df4.astype({'commuterLineID': 'category', 'stationShortCode': 'category'})\n",
    "categoryToNumeric = df4.select_dtypes(['category']).columns\n",
    "df4[categoryToNumeric] = df4[categoryToNumeric].apply(lambda x: x.cat.codes)\n",
    "df4.dtypes"
   ]
  },
  {
   "cell_type": "code",
   "execution_count": 16,
   "metadata": {},
   "outputs": [],
   "source": [
    "def minutes_to_classes(minutes):\n",
    "    if minutes <= 0:\n",
    "        return 0\n",
    "    elif ((0 < minutes) & (minutes< 3)):\n",
    "        return 1\n",
    "    elif ((3 <= minutes) & (minutes < 5)):\n",
    "        return 2\n",
    "    elif ((5 <= minutes) & (minutes < 10)):\n",
    "        return 3\n",
    "    elif ((10 <= minutes) & (minutes < 20)):\n",
    "        return 4\n",
    "    elif ((20 <= minutes)&(minutes < 30)):\n",
    "        return 5\n",
    "    else:\n",
    "        return 6\n",
    "        \n",
    "df4['differenceMinsClasses'] =  df4['differenceInMinutes'].apply(lambda x: minutes_to_classes(x)) \n",
    "df4 = df4.drop(\"differenceInMinutes\", axis=1)"
   ]
  },
  {
   "cell_type": "code",
   "execution_count": 7,
   "metadata": {},
   "outputs": [],
   "source": [
    "import datetime\n",
    "now = '../data/samples/'+str(datetime.datetime.utcnow().isoformat(timespec=\"seconds\"))+'Z.csv'\n",
    "now\n",
    "df4.to_csv(now)\n",
    "df4"
   ]
  },
  {
   "cell_type": "code",
   "execution_count": 8,
   "metadata": {},
   "outputs": [],
   "source": [
    "from sklearn.ensemble import ExtraTreesClassifier\n",
    "from sklearn.model_selection import train_test_split\n",
    "\n",
    "X_train4, X_test4, y_train4, y_test4 = train_test_split(df4.drop(\"differenceMinsClasses\", axis=1), df4['differenceMinsClasses'],\n",
    "                                                    train_size=0.80, test_size=0.20, random_state=66)\n",
    "et4 = ExtraTreesClassifier(bootstrap=True, criterion='gini', max_features=0.9000000000000001, min_samples_leaf=5, min_samples_split=12, n_estimators=100)"
   ]
  },
  {
   "cell_type": "markdown",
   "metadata": {},
   "source": [
    "### Fitting the model"
   ]
  },
  {
   "cell_type": "code",
   "execution_count": 9,
   "metadata": {},
   "outputs": [
    {
     "ename": "NameError",
     "evalue": "name 'rf4' is not defined",
     "output_type": "error",
     "traceback": [
      "\u001b[0;31m---------------------------------------------------------------------------\u001b[0m",
      "\u001b[0;31mNameError\u001b[0m                                 Traceback (most recent call last)",
      "\u001b[0;32m<ipython-input-9-96a8ff946afa>\u001b[0m in \u001b[0;36m<module>\u001b[0;34m\u001b[0m\n\u001b[1;32m      2\u001b[0m \u001b[0;34m\u001b[0m\u001b[0m\n\u001b[1;32m      3\u001b[0m \u001b[0met4\u001b[0m\u001b[0;34m.\u001b[0m\u001b[0mfit\u001b[0m\u001b[0;34m(\u001b[0m\u001b[0mX_train4\u001b[0m\u001b[0;34m,\u001b[0m \u001b[0my_train4\u001b[0m\u001b[0;34m)\u001b[0m\u001b[0;34m\u001b[0m\u001b[0;34m\u001b[0m\u001b[0m\n\u001b[0;32m----> 4\u001b[0;31m \u001b[0my_predtrain_et4\u001b[0m \u001b[0;34m=\u001b[0m \u001b[0mrf4\u001b[0m\u001b[0;34m.\u001b[0m\u001b[0mpredict\u001b[0m\u001b[0;34m(\u001b[0m\u001b[0mX_train4\u001b[0m\u001b[0;34m)\u001b[0m\u001b[0;34m\u001b[0m\u001b[0;34m\u001b[0m\u001b[0m\n\u001b[0m\u001b[1;32m      5\u001b[0m \u001b[0;34m\u001b[0m\u001b[0m\n\u001b[1;32m      6\u001b[0m \u001b[0mtrain_error_et4\u001b[0m \u001b[0;34m=\u001b[0m \u001b[0msklearn\u001b[0m\u001b[0;34m.\u001b[0m\u001b[0mmetrics\u001b[0m\u001b[0;34m.\u001b[0m\u001b[0mzero_one_loss\u001b[0m\u001b[0;34m(\u001b[0m\u001b[0my_train4\u001b[0m\u001b[0;34m,\u001b[0m \u001b[0my_predtrain_et4\u001b[0m\u001b[0;34m)\u001b[0m\u001b[0;34m\u001b[0m\u001b[0;34m\u001b[0m\u001b[0m\n",
      "\u001b[0;31mNameError\u001b[0m: name 'rf4' is not defined"
     ]
    }
   ],
   "source": [
    "import sklearn\n",
    "\n",
    "et4.fit(X_train4, y_train4)"
   ]
  },
  {
   "cell_type": "code",
   "execution_count": 10,
   "metadata": {},
   "outputs": [],
   "source": [
    "y_predtrain_et4 = et4.predict(X_train4)\n",
    "\n",
    "train_error_et4 = sklearn.metrics.zero_one_loss(y_train4, y_predtrain_et4)\n",
    "y_pred_et4 = et4.predict(X_test4)\n",
    "test_error_et4 = sklearn.metrics.zero_one_loss(y_test4, y_pred_et4)"
   ]
  },
  {
   "cell_type": "code",
   "execution_count": 12,
   "metadata": {},
   "outputs": [
    {
     "data": {
      "image/png": "[encoded data removed]",
      "text/plain": [
       "<Figure size 288x288 with 1 Axes>"
      ]
     },
     "metadata": {
      "needs_background": "light"
     },
     "output_type": "display_data"
    }
   ],
   "source": [
    "import matplotlib.pyplot as plt\n",
    "\n",
    "plt.matshow(sklearn.metrics.confusion_matrix(y_test4, y_pred_et4))\n",
    "plt.title(\"Extra trees 4: training error = %.2f, test error = %.2f\" % (train_error_et4, test_error_et4))\n",
    "plt.show()"
   ]
  },
  {
   "cell_type": "markdown",
   "metadata": {},
   "source": [
    "### Save the model"
   ]
  },
  {
   "cell_type": "code",
   "execution_count": 15,
   "metadata": {},
   "outputs": [
    {
     "data": {
      "text/plain": [
       "['../data/ml-models/et2020-10-02T17:09:04Z']"
      ]
     },
     "execution_count": 15,
     "metadata": {},
     "output_type": "execute_result"
    }
   ],
   "source": [
    "from joblib import dump, load\n",
    "\n",
    "model_path = '../data/ml-models/et'+str(datetime.datetime.utcnow().isoformat(timespec=\"seconds\"))+'Z'\n",
    "dump(et4, model_path) "
   ]
  },
  {
   "cell_type": "code",
   "execution_count": null,
   "metadata": {},
   "outputs": [],
   "source": []
  }
 ],
 "metadata": {
  "kernelspec": {
   "display_name": "Python 3",
   "language": "python",
   "name": "python3"
  },
  "language_info": {
   "codemirror_mode": {
    "name": "ipython",
    "version": 3
   },
   "file_extension": ".py",
   "mimetype": "text/x-python",
   "name": "python",
   "nbconvert_exporter": "python",
   "pygments_lexer": "ipython3",
   "version": "3.7.6"
  }
 },
 "nbformat": 4,
 "nbformat_minor": 4
}
